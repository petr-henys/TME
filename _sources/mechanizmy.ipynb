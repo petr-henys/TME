{
 "cells": [
  {
   "cell_type": "markdown",
   "metadata": {},
   "source": [
    "# Mechanizmy(☕☕☕)\n",
    "\n",
    "## Klasifikace\n",
    "Mechanismy je možno rozdělit na rovinné a prostorové. U rovinných mechanismů (i když jsou prostorově konstruovány) všechny body mechanismu se pohybují v rovinách rovnoběžných, osy rotací jsou rovnoběžné, při grafickém znázorňování jsou tyto osy kolmé na roviny pohybů. Členy mechanismů nemusí být rovinné útvary tj. desky- např. klikový mechanismus spalovacího motoru. U prostorových mechanismů konají jednotlivá tělesa vzhledem k rámu nebo vůči sobě prostorové pohyby.\n",
    "\n",
    "<p align=\"center\">\n",
    "<img src=\"obrazky/prednaska11/uvod_obrazek.png\" width=700/>\n",
    "</p>\n",
    "\n",
    "Nejčastěji se vyskytují mechanismy, které mají jeden stupeň volnosti. Má-li mechanismus dva stupně volnosti, nazývá se diferenciál.\n",
    "\n",
    "## Převodová funkce\n",
    "\n",
    "Podle převodu se mechanismy dělí na mechanismy s konstantním převodem (závislost hnané souřadnice na hnací je lineární) a mechanismy s nekonstantním převodem(závislost hnaných souřadnic na hnací je nelineární).Závislost souřadnice hnaného členu $\\Psi$ na hnací souřadnici $\\phi$ nazýváme zdvihovou závislostí:\n",
    "\n",
    "$$\n",
    "\\begin{equation}\n",
    "    \\Psi = \\lambda(\\phi)\n",
    "\\end{equation}\n",
    "$$\n",
    "\n",
    "Itá derivace je pak itá převodová funkce:\n",
    "\n",
    "$$\n",
    "\\begin{equation}\n",
    "    \\mu_{i} = \\frac{d^i\\Psi}{d\\phi^i}\n",
    "\\end{equation}\n",
    "$$\n",
    "\n",
    "## Vektorová smyčka: problém\n",
    "\n",
    "Uvažujme těleso, které vykonává otáčivý a posuvný pohyb:\n",
    "\n",
    "<p align=\"center\">\n",
    "<img src=\"obrazky/prednaska11/vektorova_smycka.png\" width=500/>\n",
    "</p>\n",
    "\n",
    "Zavěďme dva souřadnicové systémy (SS): globální a lokální a uvažujme těleso dokonale tuhé. Vektoy ve vektorové smyčce lze sčítat jen v rámci jednoho souřadnicového systému a tak musí být všechny vektory transformovány podle potřeby.\n",
    "\n",
    "<p align=\"center\">\n",
    "<img src=\"obrazky/prednaska11/vektorova_smycka_stejny_ss.png\" width=400/>\n",
    "</p>\n",
    "\n",
    "Oba SS prochází stejným počátkem pro jednoduchost. Uvažujme dva SS, které mají společný počátek a vyjádřeme kosíny os lokálního SS v globálním SS.\n",
    "\n",
    "<p align=\"center\">\n",
    "<img src=\"obrazky/prednaska11/transformační matice.png\" width=750/>\n",
    "</p>\n",
    "\n",
    "- $\\mathrm{T}$ je ortogonální ($\\mathrm{T}^{-1}=\\mathrm{T}^T$)\n",
    "- $\\mathrm{T}(\\phi(t))$: $r_B(t) = r_L(t) + \\mathrm{T}^{GL}(t)r_{LB}$\n",
    "\n",
    "Transformační matice $\\mathrm{T}$ obsahuje 9 neznámých úhlů. Pro $r_B$ dokonce 12 neznámých. Úhly nejsou nezávislé a splňují vazebné podmínky:\n",
    "\n",
    "$$\n",
    "\\begin{align}\n",
    "\t\t\\cos(\\alpha_x)^2+\\cos(\\beta_x)^2 + \\cos(\\gamma_x)^2 = & 1 \\\\\n",
    "\t\t\\cos(\\alpha_y)^2+\\cos(\\beta_y)^2 + \\cos(\\gamma_y)^2 = & 1 \\\\\n",
    "\t\t\\cos(\\alpha_y)^2+\\cos(\\beta_y)^2 + \\cos(\\gamma_y)^2 = & 1 \\\\\n",
    "\t\ti_L\\cdot j_L = & 0 \\\\\n",
    "\t\tj_L\\cdot k_L = & 0 \\\\\n",
    "\t\tk_L\\cdot i_L = & 0\n",
    "\\end{align}\n",
    "$$\n",
    "\n",
    "Tedy 6 rovnic odebere přebývajících 6 stupňů volnosti.\n",
    "\n",
    "## Speciální případ $\\mathrm{T}^{GL}$ pro 2D\n",
    "Uvažujme globální a lokální SS, které mají společný počátek a platí, že $z^G = z^L$\n",
    "\n",
    "<p align=\"center\">\n",
    "<img src=\"obrazky/prednaska11/transformační matice_2D.png\" width=700/>\n",
    "</p>\n",
    "\n",
    "\n",
    "- $\\mathrm{T}(\\phi(t))$: $r_B^G(t) = r_L^G(t) + \\mathrm{T}^{GL}(t)r_B^L$ (přejdeme k zápisu zohledňující SS.)\n",
    "- rychlost: $\\dot{r}_B^G=\\dot{r}_L^G + \\dot{\\mathrm{T}}^{GL}r_B^G + \\mathrm{T}^{GL}\\dot{r}_B^L$\n",
    "- zrychlení: $\\ddot{r}_B^G=\\ddot{r}_L^G + \\ddot{\\mathrm{T}}^{GL}r_B^G + 2\\dot{\\mathrm{T}}^{GL}\\dot{r}_B^G + \\mathrm{T}^{GL}\\ddot{r}_B^L$\n",
    "\n",
    "Některé členy budeme považovat za konstantní: $r_B^L$, časová derivace transformační matice $\\mathrm{T}^{GL}$ je:\n",
    "\n",
    "$$\n",
    "\\begin{equation}\n",
    "\t\t\\dot{\\mathrm{T}}^{GL} = \\begin{bmatrix}\n",
    "\t\t\t-\\sin(\\phi) & -\\cos(\\phi) & 0 \\\\\n",
    "\t\t\t\\cos(\\phi) & -\\sin(\\phi) & 0 \\\\\n",
    "\t\t\t0 & 0 & 0\n",
    "\t\t\\end{bmatrix}\\dot{\\phi}\n",
    "\\end{equation}\n",
    "$$\n",
    "\n",
    "a zrychlení:\n",
    "\n",
    "$$\n",
    "\\begin{equation}\n",
    "\t\\ddot{\\mathrm{T}}^{GL} = \\begin{bmatrix}\n",
    "\t-\\cos(\\phi) & \\sin(\\phi) & 0 \\\\\n",
    "\t-\\sin(\\phi) & -\\cos(\\phi) & 0 \\\\\n",
    "\t0 & 0 & 0\n",
    "\\end{bmatrix}\\dot{\\phi}^2 + \\begin{bmatrix}\n",
    "-\\sin(\\phi) & -\\cos(\\phi) & 0 \\\\\n",
    "\\cos(\\phi) & -\\sin(\\phi) & 0 \\\\\n",
    "0 & 0 & 0 \\end{bmatrix} \\ddot{\\phi}\n",
    "\\end{equation}\n",
    "$$\n",
    "\n",
    "poznámka: $\\dot{w}^L = (\\mathrm{T}^{GL})^T\\dot{\\mathrm{T}}^{GL}w^G$\n",
    "\n"
   ]
  },
  {
   "cell_type": "markdown",
   "metadata": {},
   "source": [
    "## Příklad 01: svázané body\n",
    "Uvažujte dokonalé lano bez tření, které se odvíjí z bubnu o poloměru $R$. Na konci lana je bod $A$, který se pohybuje vodorovně konstantní rychlostí $v_A$.\n",
    "\n",
    "<p align=\"center\">\n",
    "<img src=\"obrazky/prednaska11/prednaska_priklad01_zadani.png\" width=250/>\n",
    "</p>\n",
    "\n",
    "**Určete:**\n",
    "* a) průběh natočení $\\phi$ na čase $t$\n",
    "* b) průběh úhlové rychlosti $\\omega$ na čase $t$\n",
    "* c) průběh úlového zrychlení $\\alpha$ na čase $t$\n",
    "* d) obvodovou rychlost $v_A'$ bubnu na čase $t$"
   ]
  },
  {
   "cell_type": "markdown",
   "metadata": {},
   "source": [
    "### Řešení\n",
    "Nejdříve zavedeme sledované a pomocné veličiny:\n",
    "\n",
    "<p align=\"center\">\n",
    "<img src=\"obrazky/prednaska11/prednaska_priklad01_zavedeni_velicin.png\" width=250/>\n",
    "</p>"
   ]
  },
  {
   "cell_type": "markdown",
   "metadata": {},
   "source": [
    "Je zřejmé, že:\n",
    "\n",
    "$$\n",
    "\\begin{equation}\n",
    "v'_A = v_A\\sin(\\gamma_A)\n",
    "\\end{equation}\n",
    "$$\n",
    "\n",
    "také, že $x_A = v_A t$ a $\\cos(\\gamma_A) = \\frac{R}{R+x_A}$"
   ]
  },
  {
   "cell_type": "markdown",
   "metadata": {},
   "source": [
    "Pomocný úhel $\\gamma_A$ lze snadno nahradit (gon.identita):\n",
    "\n",
    "$$\n",
    "\\begin{equation}\n",
    "\\Big(\\frac{R}{R+x_A}\\Big)^2 + \\Big(\\frac{v'_A}{v_A}\\Big)^2 = 1 \\tag{1}\n",
    "\\end{equation}\n",
    "$$"
   ]
  },
  {
   "cell_type": "markdown",
   "metadata": {},
   "source": [
    "Obvodou rychlost bubunu známe! Proto:\n",
    "\n",
    "$$\n",
    "\\begin{equation}\n",
    "v'_A = \\omega R\n",
    "\\end{equation}\n",
    "$$\n",
    "\n",
    "dosadíme do (1):\n",
    "\n",
    "$$\n",
    "\\begin{equation}\n",
    "    \\omega = \\pm \\frac{v_A}{R}\\sqrt{1-\\Big(\\frac{R}{R + x_A}\\Big)^2} = - \\frac{v_A}{R}\\sqrt{1-\\Big(\\frac{1}{1 + \\frac{v_A t}{R}}\\Big)^2} \\tag{2}\n",
    "\\end{equation}\n",
    "$$\n",
    "\n",
    "Zrychlení $\\alpha$ je dáno derivací $\\dot{\\omega}$:"
   ]
  },
  {
   "cell_type": "code",
   "execution_count": 1,
   "metadata": {
    "scrolled": true
   },
   "outputs": [
    {
     "data": {
      "text/latex": [
       "$\\displaystyle - \\frac{v_{A}^{2}}{R^{2} \\left(1 + \\frac{t v_{A}}{R}\\right)^{3} \\sqrt{1 - \\frac{1}{\\left(1 + \\frac{t v_{A}}{R}\\right)^{2}}}}$"
      ],
      "text/plain": [
       "-v_A**2/(R**2*(1 + t*v_A/R)**3*sqrt(1 - 1/(1 + t*v_A/R)**2))"
      ]
     },
     "execution_count": 1,
     "metadata": {},
     "output_type": "execute_result"
    }
   ],
   "source": [
    "import sympy as sp\n",
    "R, v_A, t = sp.symbols('R v_A t', real=True, positive=True)\n",
    "omega = -v_A / R * sp.sqrt(1 - (1 / (1 + (v_A * t / R)))**2)\n",
    "alpha = sp.diff(omega, t)\n",
    "alpha"
   ]
  },
  {
   "cell_type": "markdown",
   "metadata": {},
   "source": [
    "Výpočet natočení $\\phi$ vychází z diff. rovnice $\\omega = \\dot{\\phi}$:\n",
    "\n",
    "$$\n",
    "\\begin{equation}\n",
    "\\int_{0}^{\\phi} d\\phi = -\\int_0^t \\frac{v_A}{R}\\sqrt{1-\\Big(\\frac{1}{1 + \\frac{v_A t}{R}}\\Big)^2} dt\n",
    "\\end{equation}\n",
    "$$"
   ]
  },
  {
   "cell_type": "markdown",
   "metadata": {},
   "source": [
    "Pro řešení intregrálu zaveďme substituci: $u = 1 + \\frac{v_At}{R}$, differenciál je pak $du=\\frac{v_A}{R}dt$, integrál přepíšeme:\n",
    "\n",
    "$$\n",
    "\\begin{equation}\n",
    "\\int_0^{\\phi} d\\phi = -\\int_1^{1+\\frac{v_At}{R}}\\sqrt{1 - \\frac{1}{u^2}} du\n",
    "\\end{equation}\n",
    "$$"
   ]
  },
  {
   "cell_type": "code",
   "execution_count": 2,
   "metadata": {},
   "outputs": [
    {
     "data": {
      "text/latex": [
       "$\\displaystyle \\phi{\\left(u \\right)} = C_{1} - \\begin{cases} - \\frac{i u^{2}}{\\sqrt{1 - u^{2}}} - i \\operatorname{acosh}{\\left(\\frac{1}{u} \\right)} + \\frac{i}{\\sqrt{1 - u^{2}}} & \\text{for}\\: \\frac{1}{u^{2}} > 1 \\\\\\frac{u^{2}}{\\sqrt{u^{2} - 1}} + \\operatorname{asin}{\\left(\\frac{1}{u} \\right)} - \\frac{1}{\\sqrt{u^{2} - 1}} & \\text{otherwise} \\end{cases}$"
      ],
      "text/plain": [
       "Eq(phi(u), C1 - Piecewise((-I*u**2/sqrt(1 - u**2) - I*acosh(1/u) + I/sqrt(1 - u**2), u**(-2) > 1), (u**2/sqrt(u**2 - 1) + asin(1/u) - 1/sqrt(u**2 - 1), True)))"
      ]
     },
     "execution_count": 2,
     "metadata": {},
     "output_type": "execute_result"
    }
   ],
   "source": [
    "phi = sp.symbols('phi', cls=sp.Function)\n",
    "u = sp.symbols('u', real=True, positive=True)\n",
    "dr_phi = sp.Eq(phi(u).diff(u), - sp.sqrt(u**2 - 1)/u) # differencialni rovnice\n",
    "res = sp.dsolve(dr_phi, phi(u)) # reseni differencialni rovnice\n",
    "res"
   ]
  },
  {
   "cell_type": "markdown",
   "metadata": {},
   "source": [
    "Řešení diff. rovnice je komplikované, tak přejdeme k numerice:"
   ]
  },
  {
   "cell_type": "code",
   "execution_count": 3,
   "metadata": {},
   "outputs": [],
   "source": [
    "from scipy.integrate import odeint\n",
    "import numpy as np"
   ]
  },
  {
   "cell_type": "code",
   "execution_count": 4,
   "metadata": {},
   "outputs": [],
   "source": [
    "def omega_fun(phi, t, v_A, R):\n",
    "    return -v_A / R * np.sqrt(1 - (1. / (1. + (v_A * t / R))) ** 2)"
   ]
  },
  {
   "cell_type": "code",
   "execution_count": 5,
   "metadata": {},
   "outputs": [],
   "source": [
    "v_A_num, R_num = 1, 1\n",
    "phi_0 = 0.\n",
    "tn = np.linspace(0, 3, 101)\n",
    "phin = odeint(omega_fun, phi_0, tn, args=(v_A_num, R_num))"
   ]
  },
  {
   "cell_type": "code",
   "execution_count": 6,
   "metadata": {},
   "outputs": [],
   "source": [
    "import matplotlib.pyplot as plt"
   ]
  },
  {
   "cell_type": "code",
   "execution_count": 7,
   "metadata": {},
   "outputs": [],
   "source": [
    "omegan = sp.lambdify(t, omega.subs({v_A:v_A_num, R:R_num}))\n",
    "alphan = sp.lambdify(t, alpha.subs({v_A:v_A_num, R:R_num}))"
   ]
  },
  {
   "cell_type": "code",
   "execution_count": 8,
   "metadata": {},
   "outputs": [
    {
     "name": "stderr",
     "output_type": "stream",
     "text": [
      "<lambdifygenerated-2>:2: RuntimeWarning: divide by zero encountered in true_divide\n",
      "  return (-1/(sqrt(1 - 1/(t + 1)**2)*(t + 1)**3))\n"
     ]
    },
    {
     "data": {
      "image/png": "[encoded data removed]",
      "text/plain": [
       "<Figure size 1080x360 with 1 Axes>"
      ]
     },
     "metadata": {},
     "output_type": "display_data"
    }
   ],
   "source": [
    "plt.xkcd()\n",
    "plt.figure(figsize=(15, 5))\n",
    "plt.plot(tn, phin, label=r'$\\phi$')\n",
    "plt.plot(tn, omegan(tn), label=r'$\\omega$')\n",
    "plt.plot(tn, alphan(tn), label=r'$\\alpha$')\n",
    "plt.legend()\n",
    "plt.xlabel(r'cas [t]')\n",
    "plt.show()"
   ]
  }
 ],
 "metadata": {
  "kernelspec": {
   "display_name": "Python 3",
   "language": "python",
   "name": "python3"
  },
  "language_info": {
   "codemirror_mode": {
    "name": "ipython",
    "version": 3
   },
   "file_extension": ".py",
   "mimetype": "text/x-python",
   "name": "python",
   "nbconvert_exporter": "python",
   "pygments_lexer": "ipython3",
   "version": "3.8.10"
  }
 },
 "nbformat": 4,
 "nbformat_minor": 4
}
